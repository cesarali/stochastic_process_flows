{
 "cells": [
  {
   "cell_type": "markdown",
   "metadata": {},
   "source": [
    "# Download Data"
   ]
  },
  {
   "cell_type": "code",
   "execution_count": 54,
   "metadata": {},
   "outputs": [],
   "source": [
    "import os\n",
    "import pandas as pd\n",
    "import numpy as np\n",
    "from spflows.data.gecko.gecko_requests import(\n",
    "    get_key,\n",
    "    get_coins_to_download\n",
    ")\n",
    "\n",
    "from spflows.data.gecko.gecko_metadata import (\n",
    "    AllCoinsMetadata,\n",
    "    CoinMetadata\n",
    ")\n",
    "\n",
    "from spflows.data.gecko.gecko_utils import get_elapsed_hours"
   ]
  },
  {
   "cell_type": "code",
   "execution_count": 2,
   "metadata": {},
   "outputs": [
    {
     "name": "stdout",
     "output_type": "stream",
     "text": [
      "Coins to Download: 15\n"
     ]
    },
    {
     "name": "stderr",
     "output_type": "stream",
     "text": [
      "100%|██████████| 15/15 [00:00<00:00, 285.66it/s]"
     ]
    },
    {
     "name": "stdout",
     "output_type": "stream",
     "text": [
      "Obtained 15 time series. Missing: 0\n"
     ]
    },
    {
     "name": "stderr",
     "output_type": "stream",
     "text": [
      "\n"
     ]
    }
   ],
   "source": [
    "coingecko_key = get_key()\n",
    "date_string=\"2024-12-18\"\n",
    "\n",
    "number_of_coins_to_download = 15\n",
    "selected_coins = get_coins_to_download(date_string=None,\n",
    "                                        key=coingecko_key,\n",
    "                                        number_of_coins_to_download=number_of_coins_to_download,\n",
    "                                        percentage_on_top=.1,\n",
    "                                        number_of_pages=8,\n",
    "                                        redo=False)\n",
    "all_coins_metadata = AllCoinsMetadata(date_string=date_string,coingecko_key=coingecko_key)\n",
    "\n",
    "some_coins_to_download = selected_coins[:number_of_coins_to_download]\n",
    "all_coins_metadata.download_coins_metadata(coins_to_download=some_coins_to_download)\n",
    "all_coins_metadata.download_df_timeseries()\n"
   ]
  },
  {
   "cell_type": "markdown",
   "metadata": {},
   "source": [
    "# Select the time series with frequency"
   ]
  },
  {
   "cell_type": "code",
   "execution_count": 64,
   "metadata": {},
   "outputs": [],
   "source": [
    "df_bitcoin = all_coins_metadata.df_time_series[\"bitcoin\"]\n"
   ]
  },
  {
   "cell_type": "code",
   "execution_count": 65,
   "metadata": {},
   "outputs": [],
   "source": [
    "df_bitcoin_freq = get_dataframe_with_freq_bitcoin(df_bitcoin)\n",
    "df_freq = get_dataframe_with_freq_from_bitcoin(df,df_bitcoin_freq)"
   ]
  },
  {
   "cell_type": "code",
   "execution_count": 68,
   "metadata": {},
   "outputs": [
    {
     "data": {
      "text/html": [
       "<div>\n",
       "<style scoped>\n",
       "    .dataframe tbody tr th:only-of-type {\n",
       "        vertical-align: middle;\n",
       "    }\n",
       "\n",
       "    .dataframe tbody tr th {\n",
       "        vertical-align: top;\n",
       "    }\n",
       "\n",
       "    .dataframe thead th {\n",
       "        text-align: right;\n",
       "    }\n",
       "</style>\n",
       "<table border=\"1\" class=\"dataframe\">\n",
       "  <thead>\n",
       "    <tr style=\"text-align: right;\">\n",
       "      <th></th>\n",
       "      <th>prices</th>\n",
       "      <th>market_caps</th>\n",
       "      <th>total_volumes</th>\n",
       "    </tr>\n",
       "  </thead>\n",
       "  <tbody>\n",
       "    <tr>\n",
       "      <th>2024-09-19 16:01:55.551</th>\n",
       "      <td>NaN</td>\n",
       "      <td>NaN</td>\n",
       "      <td>NaN</td>\n",
       "    </tr>\n",
       "    <tr>\n",
       "      <th>2024-09-19 17:01:55.551</th>\n",
       "      <td>NaN</td>\n",
       "      <td>NaN</td>\n",
       "      <td>NaN</td>\n",
       "    </tr>\n",
       "    <tr>\n",
       "      <th>2024-09-19 18:01:55.551</th>\n",
       "      <td>NaN</td>\n",
       "      <td>NaN</td>\n",
       "      <td>NaN</td>\n",
       "    </tr>\n",
       "    <tr>\n",
       "      <th>2024-09-19 19:01:55.551</th>\n",
       "      <td>NaN</td>\n",
       "      <td>NaN</td>\n",
       "      <td>NaN</td>\n",
       "    </tr>\n",
       "    <tr>\n",
       "      <th>2024-09-19 20:01:55.551</th>\n",
       "      <td>NaN</td>\n",
       "      <td>NaN</td>\n",
       "      <td>NaN</td>\n",
       "    </tr>\n",
       "    <tr>\n",
       "      <th>...</th>\n",
       "      <td>...</td>\n",
       "      <td>...</td>\n",
       "      <td>...</td>\n",
       "    </tr>\n",
       "    <tr>\n",
       "      <th>2024-12-18 13:01:55.551</th>\n",
       "      <td>0.002328</td>\n",
       "      <td>2.327551e+06</td>\n",
       "      <td>81137.359732</td>\n",
       "    </tr>\n",
       "    <tr>\n",
       "      <th>2024-12-18 14:01:55.551</th>\n",
       "      <td>0.002306</td>\n",
       "      <td>2.308130e+06</td>\n",
       "      <td>80567.916972</td>\n",
       "    </tr>\n",
       "    <tr>\n",
       "      <th>2024-12-18 15:01:55.551</th>\n",
       "      <td>0.002318</td>\n",
       "      <td>2.311583e+06</td>\n",
       "      <td>69775.681185</td>\n",
       "    </tr>\n",
       "    <tr>\n",
       "      <th>2024-12-18 16:01:55.551</th>\n",
       "      <td>0.002313</td>\n",
       "      <td>2.316653e+06</td>\n",
       "      <td>60992.326002</td>\n",
       "    </tr>\n",
       "    <tr>\n",
       "      <th>2024-12-18 17:01:55.551</th>\n",
       "      <td>0.002318</td>\n",
       "      <td>2.314941e+06</td>\n",
       "      <td>40149.546791</td>\n",
       "    </tr>\n",
       "  </tbody>\n",
       "</table>\n",
       "<p>2162 rows × 3 columns</p>\n",
       "</div>"
      ],
      "text/plain": [
       "                           prices   market_caps  total_volumes\n",
       "2024-09-19 16:01:55.551       NaN           NaN            NaN\n",
       "2024-09-19 17:01:55.551       NaN           NaN            NaN\n",
       "2024-09-19 18:01:55.551       NaN           NaN            NaN\n",
       "2024-09-19 19:01:55.551       NaN           NaN            NaN\n",
       "2024-09-19 20:01:55.551       NaN           NaN            NaN\n",
       "...                           ...           ...            ...\n",
       "2024-12-18 13:01:55.551  0.002328  2.327551e+06   81137.359732\n",
       "2024-12-18 14:01:55.551  0.002306  2.308130e+06   80567.916972\n",
       "2024-12-18 15:01:55.551  0.002318  2.311583e+06   69775.681185\n",
       "2024-12-18 16:01:55.551  0.002313  2.316653e+06   60992.326002\n",
       "2024-12-18 17:01:55.551  0.002318  2.314941e+06   40149.546791\n",
       "\n",
       "[2162 rows x 3 columns]"
      ]
     },
     "execution_count": 68,
     "metadata": {},
     "output_type": "execute_result"
    }
   ],
   "source": [
    "df_freq"
   ]
  }
 ],
 "metadata": {
  "kernelspec": {
   "display_name": "torchts",
   "language": "python",
   "name": "python3"
  },
  "language_info": {
   "codemirror_mode": {
    "name": "ipython",
    "version": 3
   },
   "file_extension": ".py",
   "mimetype": "text/x-python",
   "name": "python",
   "nbconvert_exporter": "python",
   "pygments_lexer": "ipython3",
   "version": "3.11.9"
  }
 },
 "nbformat": 4,
 "nbformat_minor": 2
}
