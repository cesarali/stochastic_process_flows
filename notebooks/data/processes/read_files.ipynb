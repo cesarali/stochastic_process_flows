{
 "cells": [
  {
   "cell_type": "code",
   "execution_count": 45,
   "metadata": {},
   "outputs": [],
   "source": [
    "import os\n",
    "import json\n",
    "import numpy as np\n",
    "import pandas as pd\n",
    "import torch\n",
    "from matplotlib import pyplot as plt\n",
    "\n",
    "def split_paths(observations: torch.Tensor, num_divisions: int):\n",
    "    num_experiments, num_time_steps, dim = observations.shape\n",
    "    assert num_time_steps % num_divisions == 0, \"num_time_steps must be divisible by num_divisions\"\n",
    "\n",
    "    new_t = num_time_steps // num_divisions  # New time steps per division\n",
    "    reshaped_paths = observations.view(num_experiments, num_divisions, new_t, dim)  # Reshape to group divisions\n",
    "    reshaped_paths = reshaped_paths.permute(0, 1, 2, 3).reshape(num_experiments * num_divisions, new_t, dim)  # Merge first two dims\n",
    "\n",
    "    return reshaped_paths"
   ]
  },
  {
   "cell_type": "code",
   "execution_count": 25,
   "metadata": {},
   "outputs": [],
   "source": [
    "data_file = r\"C:\\Users\\cesar\\Desktop\\Projects\\FoundationModels\\FIM\\data\\external\\coarse_obs_systems_data_5000_points\\20250129_systems_coarse_observations.json\""
   ]
  },
  {
   "cell_type": "code",
   "execution_count": 26,
   "metadata": {},
   "outputs": [],
   "source": [
    "with open(data_file,\"r\") as f:\n",
    "    full_data = json.load(f)"
   ]
  },
  {
   "cell_type": "code",
   "execution_count": 52,
   "metadata": {},
   "outputs": [],
   "source": [
    "tau:float=0.002 # 0.02, 0.01, 0.002\n",
    "dataset_str_name: str = \"Duffing\"\n",
    "num_divisions:int = 25\n",
    "\n",
    "def get_data_paths():\n",
    "    for data in full_data:\n",
    "        if data[\"name\"] == dataset_str_name and data[\"tau\"] == tau:\n",
    "            observations = data[\"observations\"]\n",
    "    observations = torch.Tensor(observations).squeeze()\n",
    "    paths_observations = split_paths(observations,num_divisions)\n",
    "    return paths_observations\n"
   ]
  },
  {
   "cell_type": "code",
   "execution_count": 54,
   "metadata": {},
   "outputs": [],
   "source": [
    "paths_observations = get_data_paths()"
   ]
  },
  {
   "cell_type": "code",
   "execution_count": 56,
   "metadata": {},
   "outputs": [
    {
     "data": {
      "text/plain": [
       "torch.Size([125, 200, 2])"
      ]
     },
     "execution_count": 56,
     "metadata": {},
     "output_type": "execute_result"
    }
   ],
   "source": [
    "paths_observations.shape"
   ]
  }
 ],
 "metadata": {
  "kernelspec": {
   "display_name": "torchts",
   "language": "python",
   "name": "python3"
  },
  "language_info": {
   "codemirror_mode": {
    "name": "ipython",
    "version": 3
   },
   "file_extension": ".py",
   "mimetype": "text/x-python",
   "name": "python",
   "nbconvert_exporter": "python",
   "pygments_lexer": "ipython3",
   "version": "3.11.9"
  }
 },
 "nbformat": 4,
 "nbformat_minor": 2
}
