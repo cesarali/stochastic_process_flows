{
 "cells": [
  {
   "cell_type": "code",
   "execution_count": 1,
   "metadata": {},
   "outputs": [
    {
     "name": "stderr",
     "output_type": "stream",
     "text": [
      "c:\\Users\\cesar\\anaconda3\\envs\\diffusion-flow\\Lib\\site-packages\\tqdm\\auto.py:21: TqdmWarning: IProgress not found. Please update jupyter and ipywidgets. See https://ipywidgets.readthedocs.io/en/stable/user_install.html\n",
      "  from .autonotebook import tqdm as notebook_tqdm\n"
     ]
    }
   ],
   "source": [
    "import pts\n",
    "from pts.modules import MeanScaler\n",
    "from pts.model import weighted_average\n",
    "from pts.model.time_grad.epsilon_theta import DiffusionEmbedding\n",
    "from pts.model.time_grad import TimeGradTrainingNetwork, TimeGradPredictionNetwork\n",
    "\n",
    "import argparse\n",
    "import numpy as np\n",
    "import torch\n",
    "from copy import deepcopy\n",
    "\n",
    "from gluonts.dataset.multivariate_grouper import MultivariateGrouper\n",
    "from gluonts.dataset.repository.datasets import get_dataset\n",
    "from gluonts.evaluation.backtest import make_evaluation_predictions\n",
    "from gluonts.evaluation import MultivariateEvaluator"
   ]
  },
  {
   "cell_type": "code",
   "execution_count": 2,
   "metadata": {},
   "outputs": [],
   "source": [
    "import pts\n",
    "from pts.modules import MeanScaler\n",
    "from pts.model import weighted_average\n",
    "from pts.model.time_grad.epsilon_theta import DiffusionEmbedding\n",
    "from pts.model.time_grad import TimeGradTrainingNetwork, TimeGradPredictionNetwork\n",
    "\n",
    "import argparse\n",
    "import numpy as np\n",
    "import torch\n",
    "from copy import deepcopy\n",
    "\n",
    "from gluonts.dataset.multivariate_grouper import MultivariateGrouper\n",
    "from gluonts.dataset.repository.datasets import get_dataset\n",
    "from gluonts.evaluation.backtest import make_evaluation_predictions\n",
    "from gluonts.evaluation import MultivariateEvaluator\n",
    "\n",
    "from gluonts.transform import (\n",
    "    Transformation,\n",
    "    Chain,\n",
    "    InstanceSplitter,\n",
    "    ExpectedNumInstanceSampler,\n",
    "    ValidationSplitSampler,\n",
    "    TestSplitSampler,\n",
    "    RenameFields,\n",
    "    AsNumpyArray,\n",
    "    ExpandDimArray,\n",
    "    AddObservedValuesIndicator,\n",
    "    AddTimeFeatures,\n",
    "    VstackFeatures,\n",
    "    SetFieldIfNotPresent,\n",
    "    TargetDimIndicator,\n",
    ")\n",
    "from gluonts.dataset.field_names import FieldName\n",
    "\n",
    "from pts.feature import (\n",
    "    fourier_time_features_from_frequency,\n",
    "    lags_for_fourier_time_features_from_frequency,\n",
    ")\n"
   ]
  },
  {
   "cell_type": "markdown",
   "metadata": {},
   "source": [
    "# Set Dataset"
   ]
  },
  {
   "cell_type": "code",
   "execution_count": 3,
   "metadata": {},
   "outputs": [],
   "source": [
    "dataset=\"electricity_nips\"\n",
    "\n",
    "# Load data\n",
    "dataset = get_dataset(dataset, regenerate=False)\n",
    "\n",
    "target_dim = int(dataset.metadata.feat_static_cat[0].cardinality)\n",
    "\n",
    "train_grouper = MultivariateGrouper(max_target_dim=min(2000, target_dim))\n",
    "test_grouper = MultivariateGrouper(num_test_dates=int(len(dataset.test) / len(dataset.train)), max_target_dim=min(2000, target_dim))\n",
    "dataset_train = train_grouper(dataset.train)\n",
    "dataset_test = test_grouper(dataset.test)\n",
    "\n",
    "val_window = 20 * dataset.metadata.prediction_length\n",
    "dataset_train = list(dataset_train)\n",
    "dataset_val = []\n",
    "for i in range(len(dataset_train)):\n",
    "    x = deepcopy(dataset_train[i])\n",
    "    x['target'] = x['target'][:,-val_window:]\n",
    "    dataset_val.append(x)\n",
    "    dataset_train[i]['target'] = dataset_train[i]['target'][:,:-val_window]"
   ]
  },
  {
   "cell_type": "code",
   "execution_count": 4,
   "metadata": {},
   "outputs": [
    {
     "data": {
      "text/plain": [
       "(370, 5353)"
      ]
     },
     "execution_count": 4,
     "metadata": {},
     "output_type": "execute_result"
    }
   ],
   "source": [
    "dataset_train[0]['target'].shape"
   ]
  },
  {
   "cell_type": "markdown",
   "metadata": {},
   "source": [
    "# Define Transforms"
   ]
  },
  {
   "cell_type": "code",
   "execution_count": 5,
   "metadata": {},
   "outputs": [],
   "source": [
    "freq = dataset.metadata.freq\n",
    "prediction_length=dataset.metadata.prediction_length\n",
    "\n",
    "time_features = None\n",
    "lags_seq = None\n",
    "\n",
    "time_features = (\n",
    "    time_features\n",
    "    if time_features is not None\n",
    "    else fourier_time_features_from_frequency(freq)\n",
    ")\n",
    "\n",
    "lags_seq = (\n",
    "    lags_seq\n",
    "    if lags_seq is not None\n",
    "    else lags_for_fourier_time_features_from_frequency(freq_str=freq)\n",
    ")\n",
    "\n",
    "\n",
    "transformations = Chain(\n",
    "            [\n",
    "                AsNumpyArray(\n",
    "                    field=FieldName.TARGET,\n",
    "                    expected_ndim=1,\n",
    "                ),\n",
    "                # maps the target to (1, T)\n",
    "                # if the target data is uni dimensional\n",
    "                ExpandDimArray(\n",
    "                    field=FieldName.TARGET,\n",
    "                    axis=None,\n",
    "                ),\n",
    "                AddObservedValuesIndicator(\n",
    "                    target_field=FieldName.TARGET,\n",
    "                    output_field=FieldName.OBSERVED_VALUES,\n",
    "                ),\n",
    "                AddTimeFeatures(\n",
    "                    start_field=FieldName.START,\n",
    "                    target_field=FieldName.TARGET,\n",
    "                    output_field=FieldName.FEAT_TIME,\n",
    "                    time_features=time_features,\n",
    "                    pred_length=prediction_length,\n",
    "                ),\n",
    "                VstackFeatures(\n",
    "                    output_field=FieldName.FEAT_TIME,\n",
    "                    input_fields=[FieldName.FEAT_TIME],\n",
    "                ),\n",
    "                SetFieldIfNotPresent(field=FieldName.FEAT_STATIC_CAT, value=[0]),\n",
    "                TargetDimIndicator(\n",
    "                    field_name=\"target_dimension_indicator\",\n",
    "                    target_field=FieldName.TARGET,\n",
    "                ),\n",
    "                AsNumpyArray(field=FieldName.FEAT_STATIC_CAT, expected_ndim=1),\n",
    "            ]\n",
    "        )"
   ]
  },
  {
   "cell_type": "code",
   "execution_count": 6,
   "metadata": {},
   "outputs": [],
   "source": [
    "from gluonts.dataset.loader import TrainDataLoader\n",
    "from gluonts.itertools import Cached\n",
    "from gluonts.torch.batchify import batchify"
   ]
  },
  {
   "cell_type": "code",
   "execution_count": 11,
   "metadata": {},
   "outputs": [],
   "source": [
    "from pts.dataset.loader import TransformedIterableDataset"
   ]
  },
  {
   "cell_type": "code",
   "execution_count": 7,
   "metadata": {},
   "outputs": [],
   "source": [
    "batch_size = 32\n",
    "num_batches_per_epoch = 50"
   ]
  },
  {
   "cell_type": "code",
   "execution_count": null,
   "metadata": {},
   "outputs": [],
   "source": [
    "def create_instance_splitter(self, mode: str):\n",
    "    assert mode in [\"training\", \"validation\", \"test\"]\n",
    "\n",
    "    instance_sampler = {\n",
    "        \"training\": self.train_sampler,\n",
    "        \"validation\": self.validation_sampler,\n",
    "        \"test\": TestSplitSampler(),\n",
    "    }[mode]\n",
    "\n",
    "    return InstanceSplitter(\n",
    "        target_field=FieldName.TARGET,\n",
    "        is_pad_field=FieldName.IS_PAD,\n",
    "        start_field=FieldName.START,\n",
    "        forecast_start_field=FieldName.FORECAST_START,\n",
    "        instance_sampler=instance_sampler,\n",
    "        past_length=self.history_length,\n",
    "        future_length=self.prediction_length,\n",
    "        time_series_fields=[\n",
    "            FieldName.FEAT_TIME,\n",
    "            FieldName.OBSERVED_VALUES,\n",
    "        ],\n",
    "    ) + (\n",
    "        RenameFields(\n",
    "            {\n",
    "                f\"past_{FieldName.TARGET}\": f\"past_{FieldName.TARGET}_cdf\",\n",
    "                f\"future_{FieldName.TARGET}\": f\"future_{FieldName.TARGET}_cdf\",\n",
    "            }\n",
    "        )\n",
    "    )"
   ]
  },
  {
   "cell_type": "code",
   "execution_count": null,
   "metadata": {},
   "outputs": [],
   "source": [
    "training_iter_dataset = TransformedIterableDataset(\n",
    "    dataset=training_data,\n",
    "    transform=transformation\n",
    "    + training_instance_splitter\n",
    "    + SelectFields(input_names),\n",
    "    is_train=True,\n",
    "    shuffle_buffer_length=shuffle_buffer_length,\n",
    "    cache_data=cache_data,\n",
    ")"
   ]
  },
  {
   "cell_type": "code",
   "execution_count": null,
   "metadata": {},
   "outputs": [
    {
     "ename": "TypeError",
     "evalue": "TrainDataLoader() missing 1 required keyword-only argument: 'stack_fn'",
     "output_type": "error",
     "traceback": [
      "\u001b[1;31m---------------------------------------------------------------------------\u001b[0m",
      "\u001b[1;31mTypeError\u001b[0m                                 Traceback (most recent call last)",
      "Cell \u001b[1;32mIn[10], line 1\u001b[0m\n\u001b[1;32m----> 1\u001b[0m data_loader \u001b[38;5;241m=\u001b[39m \u001b[43mTrainDataLoader\u001b[49m\u001b[43m(\u001b[49m\n\u001b[0;32m      2\u001b[0m \u001b[43m    \u001b[49m\u001b[38;5;66;43;03m# We cache the dataset, to make training faster\u001b[39;49;00m\n\u001b[0;32m      3\u001b[0m \u001b[43m    \u001b[49m\u001b[43mCached\u001b[49m\u001b[43m(\u001b[49m\u001b[43mdataset\u001b[49m\u001b[38;5;241;43m.\u001b[39;49m\u001b[43mtrain\u001b[49m\u001b[43m)\u001b[49m\u001b[43m,\u001b[49m\n\u001b[0;32m      4\u001b[0m \u001b[43m    \u001b[49m\u001b[43mbatch_size\u001b[49m\u001b[38;5;241;43m=\u001b[39;49m\u001b[43mbatch_size\u001b[49m\u001b[43m,\u001b[49m\n\u001b[0;32m      5\u001b[0m \u001b[43m    \u001b[49m\u001b[43mtransform\u001b[49m\u001b[38;5;241;43m=\u001b[39;49m\u001b[43mtransformations\u001b[49m\u001b[43m,\u001b[49m\n\u001b[0;32m      6\u001b[0m \u001b[43m    \u001b[49m\u001b[43mnum_batches_per_epoch\u001b[49m\u001b[38;5;241;43m=\u001b[39;49m\u001b[43mnum_batches_per_epoch\u001b[49m\u001b[43m,\u001b[49m\n\u001b[0;32m      7\u001b[0m \u001b[43m)\u001b[49m\n",
      "\u001b[1;31mTypeError\u001b[0m: TrainDataLoader() missing 1 required keyword-only argument: 'stack_fn'"
     ]
    }
   ],
   "source": [
    "data_loader = TrainDataLoader(\n",
    "    # We cache the dataset, to make training faster\n",
    "    Cached(dataset.train),\n",
    "    batch_size=batch_size,\n",
    "    stack_fn=batchify,\n",
    "    transform=transformations,\n",
    "    num_batches_per_epoch=num_batches_per_epoch,\n",
    ")"
   ]
  },
  {
   "cell_type": "code",
   "execution_count": 9,
   "metadata": {},
   "outputs": [
    {
     "ename": "ValueError",
     "evalue": "setting an array element with a sequence. The requested array has an inhomogeneous shape after 1 dimensions. The detected shape was (32,) + inhomogeneous part.",
     "output_type": "error",
     "traceback": [
      "\u001b[1;31m---------------------------------------------------------------------------\u001b[0m",
      "\u001b[1;31mValueError\u001b[0m                                Traceback (most recent call last)",
      "Cell \u001b[1;32mIn[9], line 1\u001b[0m\n\u001b[1;32m----> 1\u001b[0m \u001b[38;5;28;43mnext\u001b[39;49m\u001b[43m(\u001b[49m\u001b[43mdata_loader\u001b[49m\u001b[38;5;241;43m.\u001b[39;49m\u001b[38;5;21;43m__iter__\u001b[39;49m\u001b[43m(\u001b[49m\u001b[43m)\u001b[49m\u001b[43m)\u001b[49m\n",
      "File \u001b[1;32mc:\\Users\\cesar\\anaconda3\\envs\\diffusion-flow\\Lib\\site-packages\\gluonts\\itertools.py:420\u001b[0m, in \u001b[0;36mIterableSlice.__iter__\u001b[1;34m(self)\u001b[0m\n\u001b[0;32m    419\u001b[0m \u001b[38;5;28;01mdef\u001b[39;00m \u001b[38;5;21m__iter__\u001b[39m(\u001b[38;5;28mself\u001b[39m):\n\u001b[1;32m--> 420\u001b[0m     \u001b[38;5;28;01myield from\u001b[39;00m itertools\u001b[38;5;241m.\u001b[39mislice(\u001b[38;5;28mself\u001b[39m\u001b[38;5;241m.\u001b[39miterable, \u001b[38;5;28mself\u001b[39m\u001b[38;5;241m.\u001b[39mlength)\n",
      "File \u001b[1;32mc:\\Users\\cesar\\anaconda3\\envs\\diffusion-flow\\Lib\\site-packages\\gluonts\\transform\\_base.py:111\u001b[0m, in \u001b[0;36mTransformedDataset.__iter__\u001b[1;34m(self)\u001b[0m\n\u001b[0;32m    110\u001b[0m \u001b[38;5;28;01mdef\u001b[39;00m \u001b[38;5;21m__iter__\u001b[39m(\u001b[38;5;28mself\u001b[39m) \u001b[38;5;241m-\u001b[39m\u001b[38;5;241m>\u001b[39m Iterator[DataEntry]:\n\u001b[1;32m--> 111\u001b[0m     \u001b[38;5;28;01myield from\u001b[39;00m \u001b[38;5;28mself\u001b[39m\u001b[38;5;241m.\u001b[39mtransformation(\n\u001b[0;32m    112\u001b[0m         \u001b[38;5;28mself\u001b[39m\u001b[38;5;241m.\u001b[39mbase_dataset, is_train\u001b[38;5;241m=\u001b[39m\u001b[38;5;28mself\u001b[39m\u001b[38;5;241m.\u001b[39mis_train\n\u001b[0;32m    113\u001b[0m     )\n",
      "File \u001b[1;32mc:\\Users\\cesar\\anaconda3\\envs\\diffusion-flow\\Lib\\site-packages\\gluonts\\transform\\_base.py:136\u001b[0m, in \u001b[0;36mMapTransformation.__call__\u001b[1;34m(self, data_it, is_train)\u001b[0m\n\u001b[0;32m    134\u001b[0m     \u001b[38;5;28;01myield\u001b[39;00m \u001b[38;5;28mself\u001b[39m\u001b[38;5;241m.\u001b[39mmap_transform(data_entry\u001b[38;5;241m.\u001b[39mcopy(), is_train)\n\u001b[0;32m    135\u001b[0m \u001b[38;5;28;01mexcept\u001b[39;00m \u001b[38;5;167;01mException\u001b[39;00m \u001b[38;5;28;01mas\u001b[39;00m e:\n\u001b[1;32m--> 136\u001b[0m     \u001b[38;5;28;01mraise\u001b[39;00m e\n",
      "File \u001b[1;32mc:\\Users\\cesar\\anaconda3\\envs\\diffusion-flow\\Lib\\site-packages\\gluonts\\transform\\_base.py:134\u001b[0m, in \u001b[0;36mMapTransformation.__call__\u001b[1;34m(self, data_it, is_train)\u001b[0m\n\u001b[0;32m    132\u001b[0m \u001b[38;5;28;01mfor\u001b[39;00m data_entry \u001b[38;5;129;01min\u001b[39;00m data_it:\n\u001b[0;32m    133\u001b[0m     \u001b[38;5;28;01mtry\u001b[39;00m:\n\u001b[1;32m--> 134\u001b[0m         \u001b[38;5;28;01myield\u001b[39;00m \u001b[38;5;28;43mself\u001b[39;49m\u001b[38;5;241;43m.\u001b[39;49m\u001b[43mmap_transform\u001b[49m\u001b[43m(\u001b[49m\u001b[43mdata_entry\u001b[49m\u001b[38;5;241;43m.\u001b[39;49m\u001b[43mcopy\u001b[49m\u001b[43m(\u001b[49m\u001b[43m)\u001b[49m\u001b[43m,\u001b[49m\u001b[43m \u001b[49m\u001b[43mis_train\u001b[49m\u001b[43m)\u001b[49m\n\u001b[0;32m    135\u001b[0m     \u001b[38;5;28;01mexcept\u001b[39;00m \u001b[38;5;167;01mException\u001b[39;00m \u001b[38;5;28;01mas\u001b[39;00m e:\n\u001b[0;32m    136\u001b[0m         \u001b[38;5;28;01mraise\u001b[39;00m e\n",
      "File \u001b[1;32mc:\\Users\\cesar\\anaconda3\\envs\\diffusion-flow\\Lib\\site-packages\\gluonts\\transform\\_base.py:149\u001b[0m, in \u001b[0;36mSimpleTransformation.map_transform\u001b[1;34m(self, data, is_train)\u001b[0m\n\u001b[0;32m    148\u001b[0m \u001b[38;5;28;01mdef\u001b[39;00m \u001b[38;5;21mmap_transform\u001b[39m(\u001b[38;5;28mself\u001b[39m, data: DataEntry, is_train: \u001b[38;5;28mbool\u001b[39m) \u001b[38;5;241m-\u001b[39m\u001b[38;5;241m>\u001b[39m DataEntry:\n\u001b[1;32m--> 149\u001b[0m     \u001b[38;5;28;01mreturn\u001b[39;00m \u001b[38;5;28;43mself\u001b[39;49m\u001b[38;5;241;43m.\u001b[39;49m\u001b[43mtransform\u001b[49m\u001b[43m(\u001b[49m\u001b[43mdata\u001b[49m\u001b[43m)\u001b[49m\n",
      "File \u001b[1;32mc:\\Users\\cesar\\anaconda3\\envs\\diffusion-flow\\Lib\\site-packages\\gluonts\\transform\\_base.py:169\u001b[0m, in \u001b[0;36mAdhocTransform.transform\u001b[1;34m(self, data)\u001b[0m\n\u001b[0;32m    168\u001b[0m \u001b[38;5;28;01mdef\u001b[39;00m \u001b[38;5;21mtransform\u001b[39m(\u001b[38;5;28mself\u001b[39m, data: DataEntry) \u001b[38;5;241m-\u001b[39m\u001b[38;5;241m>\u001b[39m DataEntry:\n\u001b[1;32m--> 169\u001b[0m     \u001b[38;5;28;01mreturn\u001b[39;00m \u001b[38;5;28;43mself\u001b[39;49m\u001b[38;5;241;43m.\u001b[39;49m\u001b[43mfunc\u001b[49m\u001b[43m(\u001b[49m\u001b[43mdata\u001b[49m\u001b[38;5;241;43m.\u001b[39;49m\u001b[43mcopy\u001b[49m\u001b[43m(\u001b[49m\u001b[43m)\u001b[49m\u001b[43m)\u001b[49m\n",
      "File \u001b[1;32mc:\\Users\\cesar\\anaconda3\\envs\\diffusion-flow\\Lib\\site-packages\\gluonts\\torch\\batchify.py:31\u001b[0m, in \u001b[0;36mbatchify\u001b[1;34m(data, device)\u001b[0m\n\u001b[0;32m     30\u001b[0m \u001b[38;5;28;01mdef\u001b[39;00m \u001b[38;5;21mbatchify\u001b[39m(data: List[\u001b[38;5;28mdict\u001b[39m], device: torch\u001b[38;5;241m.\u001b[39mtypes\u001b[38;5;241m.\u001b[39mDevice \u001b[38;5;241m=\u001b[39m \u001b[38;5;28;01mNone\u001b[39;00m) \u001b[38;5;241m-\u001b[39m\u001b[38;5;241m>\u001b[39m DataBatch:\n\u001b[1;32m---> 31\u001b[0m     \u001b[38;5;28;01mreturn\u001b[39;00m \u001b[43m{\u001b[49m\n\u001b[0;32m     32\u001b[0m \u001b[43m        \u001b[49m\u001b[43mkey\u001b[49m\u001b[43m:\u001b[49m\u001b[43m \u001b[49m\u001b[43mstack\u001b[49m\u001b[43m(\u001b[49m\u001b[43mdata\u001b[49m\u001b[38;5;241;43m=\u001b[39;49m\u001b[43m[\u001b[49m\u001b[43mitem\u001b[49m\u001b[43m[\u001b[49m\u001b[43mkey\u001b[49m\u001b[43m]\u001b[49m\u001b[43m \u001b[49m\u001b[38;5;28;43;01mfor\u001b[39;49;00m\u001b[43m \u001b[49m\u001b[43mitem\u001b[49m\u001b[43m \u001b[49m\u001b[38;5;129;43;01min\u001b[39;49;00m\u001b[43m \u001b[49m\u001b[43mdata\u001b[49m\u001b[43m]\u001b[49m\u001b[43m,\u001b[49m\u001b[43m \u001b[49m\u001b[43mdevice\u001b[49m\u001b[38;5;241;43m=\u001b[39;49m\u001b[43mdevice\u001b[49m\u001b[43m)\u001b[49m\n\u001b[0;32m     33\u001b[0m \u001b[43m        \u001b[49m\u001b[38;5;28;43;01mfor\u001b[39;49;00m\u001b[43m \u001b[49m\u001b[43mkey\u001b[49m\u001b[43m \u001b[49m\u001b[38;5;129;43;01min\u001b[39;49;00m\u001b[43m \u001b[49m\u001b[43mdata\u001b[49m\u001b[43m[\u001b[49m\u001b[38;5;241;43m0\u001b[39;49m\u001b[43m]\u001b[49m\u001b[38;5;241;43m.\u001b[39;49m\u001b[43mkeys\u001b[49m\u001b[43m(\u001b[49m\u001b[43m)\u001b[49m\n\u001b[0;32m     34\u001b[0m \u001b[43m    \u001b[49m\u001b[43m}\u001b[49m\n",
      "File \u001b[1;32mc:\\Users\\cesar\\anaconda3\\envs\\diffusion-flow\\Lib\\site-packages\\gluonts\\torch\\batchify.py:32\u001b[0m, in \u001b[0;36m<dictcomp>\u001b[1;34m(.0)\u001b[0m\n\u001b[0;32m     30\u001b[0m \u001b[38;5;28;01mdef\u001b[39;00m \u001b[38;5;21mbatchify\u001b[39m(data: List[\u001b[38;5;28mdict\u001b[39m], device: torch\u001b[38;5;241m.\u001b[39mtypes\u001b[38;5;241m.\u001b[39mDevice \u001b[38;5;241m=\u001b[39m \u001b[38;5;28;01mNone\u001b[39;00m) \u001b[38;5;241m-\u001b[39m\u001b[38;5;241m>\u001b[39m DataBatch:\n\u001b[0;32m     31\u001b[0m     \u001b[38;5;28;01mreturn\u001b[39;00m {\n\u001b[1;32m---> 32\u001b[0m         key: \u001b[43mstack\u001b[49m\u001b[43m(\u001b[49m\u001b[43mdata\u001b[49m\u001b[38;5;241;43m=\u001b[39;49m\u001b[43m[\u001b[49m\u001b[43mitem\u001b[49m\u001b[43m[\u001b[49m\u001b[43mkey\u001b[49m\u001b[43m]\u001b[49m\u001b[43m \u001b[49m\u001b[38;5;28;43;01mfor\u001b[39;49;00m\u001b[43m \u001b[49m\u001b[43mitem\u001b[49m\u001b[43m \u001b[49m\u001b[38;5;129;43;01min\u001b[39;49;00m\u001b[43m \u001b[49m\u001b[43mdata\u001b[49m\u001b[43m]\u001b[49m\u001b[43m,\u001b[49m\u001b[43m \u001b[49m\u001b[43mdevice\u001b[49m\u001b[38;5;241;43m=\u001b[39;49m\u001b[43mdevice\u001b[49m\u001b[43m)\u001b[49m\n\u001b[0;32m     33\u001b[0m         \u001b[38;5;28;01mfor\u001b[39;00m key \u001b[38;5;129;01min\u001b[39;00m data[\u001b[38;5;241m0\u001b[39m]\u001b[38;5;241m.\u001b[39mkeys()\n\u001b[0;32m     34\u001b[0m     }\n",
      "File \u001b[1;32mc:\\Users\\cesar\\anaconda3\\envs\\diffusion-flow\\Lib\\site-packages\\gluonts\\torch\\batchify.py:24\u001b[0m, in \u001b[0;36mstack\u001b[1;34m(data, device)\u001b[0m\n\u001b[0;32m     22\u001b[0m \u001b[38;5;28;01mdef\u001b[39;00m \u001b[38;5;21mstack\u001b[39m(data, device: torch\u001b[38;5;241m.\u001b[39mtypes\u001b[38;5;241m.\u001b[39mDevice \u001b[38;5;241m=\u001b[39m \u001b[38;5;28;01mNone\u001b[39;00m):\n\u001b[0;32m     23\u001b[0m     \u001b[38;5;28;01mif\u001b[39;00m \u001b[38;5;28misinstance\u001b[39m(data[\u001b[38;5;241m0\u001b[39m], np\u001b[38;5;241m.\u001b[39mndarray):\n\u001b[1;32m---> 24\u001b[0m         data \u001b[38;5;241m=\u001b[39m torch\u001b[38;5;241m.\u001b[39mtensor(\u001b[43mnp\u001b[49m\u001b[38;5;241;43m.\u001b[39;49m\u001b[43marray\u001b[49m\u001b[43m(\u001b[49m\u001b[43mdata\u001b[49m\u001b[43m)\u001b[49m, device\u001b[38;5;241m=\u001b[39mdevice)\n\u001b[0;32m     25\u001b[0m     \u001b[38;5;28;01melif\u001b[39;00m \u001b[38;5;28misinstance\u001b[39m(data[\u001b[38;5;241m0\u001b[39m], (\u001b[38;5;28mlist\u001b[39m, \u001b[38;5;28mtuple\u001b[39m)):\n\u001b[0;32m     26\u001b[0m         \u001b[38;5;28;01mreturn\u001b[39;00m \u001b[38;5;28mlist\u001b[39m(stack(t, device\u001b[38;5;241m=\u001b[39mdevice) \u001b[38;5;28;01mfor\u001b[39;00m t \u001b[38;5;129;01min\u001b[39;00m \u001b[38;5;28mzip\u001b[39m(\u001b[38;5;241m*\u001b[39mdata))\n",
      "\u001b[1;31mValueError\u001b[0m: setting an array element with a sequence. The requested array has an inhomogeneous shape after 1 dimensions. The detected shape was (32,) + inhomogeneous part."
     ]
    }
   ],
   "source": [
    "next(data_loader.__iter__())"
   ]
  }
 ],
 "metadata": {
  "kernelspec": {
   "display_name": "diffusion-flow",
   "language": "python",
   "name": "python3"
  },
  "language_info": {
   "codemirror_mode": {
    "name": "ipython",
    "version": 3
   },
   "file_extension": ".py",
   "mimetype": "text/x-python",
   "name": "python",
   "nbconvert_exporter": "python",
   "pygments_lexer": "ipython3",
   "version": "3.11.9"
  }
 },
 "nbformat": 4,
 "nbformat_minor": 2
}
