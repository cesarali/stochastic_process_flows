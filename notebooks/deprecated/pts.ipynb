{
 "cells": [
  {
   "cell_type": "code",
   "execution_count": 1,
   "metadata": {},
   "outputs": [
    {
     "name": "stderr",
     "output_type": "stream",
     "text": [
      "c:\\Users\\cesar\\anaconda3\\envs\\diffusion-flow\\Lib\\site-packages\\tqdm\\auto.py:21: TqdmWarning: IProgress not found. Please update jupyter and ipywidgets. See https://ipywidgets.readthedocs.io/en/stable/user_install.html\n",
      "  from .autonotebook import tqdm as notebook_tqdm\n"
     ]
    }
   ],
   "source": [
    "import pts\n",
    "from pts.modules import MeanScaler\n",
    "from pts.model import weighted_average\n",
    "from pts.model.time_grad.epsilon_theta import DiffusionEmbedding\n",
    "from pts.model.time_grad import TimeGradTrainingNetwork, TimeGradPredictionNetwork\n",
    "\n",
    "import argparse\n",
    "import numpy as np\n",
    "import torch\n",
    "from copy import deepcopy\n",
    "\n",
    "from gluonts.dataset.multivariate_grouper import MultivariateGrouper\n",
    "from gluonts.dataset.repository.datasets import get_dataset\n",
    "from gluonts.evaluation.backtest import make_evaluation_predictions\n",
    "from gluonts.evaluation import MultivariateEvaluator"
   ]
  },
  {
   "cell_type": "code",
   "execution_count": null,
   "metadata": {},
   "outputs": [],
   "source": [
    "dataset=\"electricity_nips\"\n",
    "\n",
    "# Load data\n",
    "dataset = get_dataset(dataset, regenerate=False)\n",
    "\n",
    "target_dim = int(dataset.metadata.feat_static_cat[0].cardinality)\n",
    "\n",
    "train_grouper = MultivariateGrouper(max_target_dim=min(2000, target_dim))\n",
    "test_grouper = MultivariateGrouper(num_test_dates=int(len(dataset.test) / len(dataset.train)), max_target_dim=min(2000, target_dim))\n",
    "dataset_train = train_grouper(dataset.train)\n",
    "dataset_test = test_grouper(dataset.test)\n",
    "\n",
    "val_window = 20 * dataset.metadata.prediction_length\n",
    "dataset_train = list(dataset_train)\n",
    "dataset_val = []\n",
    "for i in range(len(dataset_train)):\n",
    "    x = deepcopy(dataset_train[i])\n",
    "    x['target'] = x['target'][:,-val_window:]\n",
    "    dataset_val.append(x)\n",
    "    dataset_train[i]['target'] = dataset_train[i]['target'][:,:-val_window]"
   ]
  },
  {
   "cell_type": "code",
   "execution_count": null,
   "metadata": {},
   "outputs": [
    {
     "data": {
      "text/plain": [
       "'h'"
      ]
     },
     "execution_count": 23,
     "metadata": {},
     "output_type": "execute_result"
    }
   ],
   "source": [
    "from gluonts.transform import (\n",
    "    Transformation,\n",
    "    Chain,\n",
    "    InstanceSplitter,\n",
    "    ExpectedNumInstanceSampler,\n",
    "    ValidationSplitSampler,\n",
    "    TestSplitSampler,\n",
    "    RenameFields,\n",
    "    AsNumpyArray,\n",
    "    ExpandDimArray,\n",
    "    AddObservedValuesIndicator,\n",
    "    AddTimeFeatures,\n",
    "    VstackFeatures,\n",
    "    SetFieldIfNotPresent,\n",
    "    TargetDimIndicator,\n",
    ")\n",
    "from gluonts.dataset.field_names import FieldName\n",
    "\n",
    "from pts.feature import (\n",
    "    fourier_time_features_from_frequency,\n",
    "    lags_for_fourier_time_features_from_frequency,\n",
    ")\n"
   ]
  },
  {
   "cell_type": "code",
   "execution_count": 24,
   "metadata": {},
   "outputs": [],
   "source": [
    "freq = dataset.metadata.freq\n",
    "prediction_length=dataset.metadata.prediction_length\n",
    "\n",
    "time_features = None\n",
    "lags_seq = None\n",
    "\n",
    "time_features = (\n",
    "    time_features\n",
    "    if time_features is not None\n",
    "    else fourier_time_features_from_frequency(freq)\n",
    ")\n",
    "\n",
    "lags_seq = (\n",
    "    lags_seq\n",
    "    if lags_seq is not None\n",
    "    else lags_for_fourier_time_features_from_frequency(freq_str=freq)\n",
    ")\n",
    "\n",
    "\n",
    "transformations = Chain(\n",
    "            [\n",
    "                AsNumpyArray(\n",
    "                    field=FieldName.TARGET,\n",
    "                    expected_ndim=2,\n",
    "                ),\n",
    "                # maps the target to (1, T)\n",
    "                # if the target data is uni dimensional\n",
    "                ExpandDimArray(\n",
    "                    field=FieldName.TARGET,\n",
    "                    axis=None,\n",
    "                ),\n",
    "                AddObservedValuesIndicator(\n",
    "                    target_field=FieldName.TARGET,\n",
    "                    output_field=FieldName.OBSERVED_VALUES,\n",
    "                ),\n",
    "                AddTimeFeatures(\n",
    "                    start_field=FieldName.START,\n",
    "                    target_field=FieldName.TARGET,\n",
    "                    output_field=FieldName.FEAT_TIME,\n",
    "                    time_features=time_features,\n",
    "                    pred_length=prediction_length,\n",
    "                ),\n",
    "                VstackFeatures(\n",
    "                    output_field=FieldName.FEAT_TIME,\n",
    "                    input_fields=[FieldName.FEAT_TIME],\n",
    "                ),\n",
    "                SetFieldIfNotPresent(field=FieldName.FEAT_STATIC_CAT, value=[0]),\n",
    "                TargetDimIndicator(\n",
    "                    field_name=\"target_dimension_indicator\",\n",
    "                    target_field=FieldName.TARGET,\n",
    "                ),\n",
    "                AsNumpyArray(field=FieldName.FEAT_STATIC_CAT, expected_ndim=1),\n",
    "            ]\n",
    "        )"
   ]
  },
  {
   "cell_type": "code",
   "execution_count": null,
   "metadata": {},
   "outputs": [],
   "source": [
    "training_iter_dataset = TransformedIterableDataset(\n",
    "    dataset=training_data,\n",
    "    transform=transformation\n",
    "    + training_instance_splitter\n",
    "    + SelectFields(input_names),\n",
    "    is_train=True,\n",
    "    shuffle_buffer_length=shuffle_buffer_length,\n",
    "    cache_data=cache_data,\n",
    ")\n",
    "\n",
    "training_data_loader = DataLoader(\n",
    "    training_iter_dataset,\n",
    "    batch_size=self.trainer.batch_size,\n",
    "    num_workers=num_workers,\n",
    "    prefetch_factor=prefetch_factor,\n",
    "    pin_memory=True,\n",
    "    worker_init_fn=self._worker_init_fn,\n",
    "    **kwargs,\n",
    ")"
   ]
  }
 ],
 "metadata": {
  "kernelspec": {
   "display_name": "diffusion-flow",
   "language": "python",
   "name": "python3"
  },
  "language_info": {
   "codemirror_mode": {
    "name": "ipython",
    "version": 3
   },
   "file_extension": ".py",
   "mimetype": "text/x-python",
   "name": "python",
   "nbconvert_exporter": "python",
   "pygments_lexer": "ipython3",
   "version": "3.11.9"
  }
 },
 "nbformat": 4,
 "nbformat_minor": 2
}
